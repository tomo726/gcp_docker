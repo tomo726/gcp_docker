{
 "cells": [
  {
   "cell_type": "code",
   "execution_count": 26,
   "metadata": {},
   "outputs": [
    {
     "data": {
      "text/plain": [
       "'negative'"
      ]
     },
     "execution_count": 26,
     "metadata": {},
     "output_type": "execute_result"
    }
   ],
   "source": [
    "import subprocess\n",
    "\n",
    "text = 'You just make me so sad and I have to leave you .'\n",
    "cmd = ['python', 'cnn-text-classification-pytorch/main.py', '-predict', text,\n",
    "       '-snapshot', './cnn-text-classification-pytorch/snapshot/2020-10-17_17-26-19/best_steps_2200.pt']\n",
    "runcmd = subprocess.run(cmd, encoding='utf-8', stdout=subprocess.PIPE)\n",
    "sentiment = runcmd.stdout.split()[-1]\n",
    "sentiment"
   ]
  },
  {
   "cell_type": "code",
   "execution_count": null,
   "metadata": {},
   "outputs": [],
   "source": []
  }
 ],
 "metadata": {
  "kernelspec": {
   "display_name": "Python 3",
   "language": "python",
   "name": "python3"
  },
  "language_info": {
   "codemirror_mode": {
    "name": "ipython",
    "version": 3
   },
   "file_extension": ".py",
   "mimetype": "text/x-python",
   "name": "python",
   "nbconvert_exporter": "python",
   "pygments_lexer": "ipython3",
   "version": "3.8.5"
  }
 },
 "nbformat": 4,
 "nbformat_minor": 4
}
